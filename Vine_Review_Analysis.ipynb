{
  "nbformat": 4,
  "nbformat_minor": 0,
  "metadata": {
    "colab": {
      "name": "Vine_Review_Analysis.ipynb",
      "provenance": []
    },
    "kernelspec": {
      "name": "python3",
      "display_name": "Python 3"
    },
    "language_info": {
      "name": "python"
    }
  },
  "cells": [
    {
      "cell_type": "code",
      "metadata": {
        "colab": {
          "base_uri": "https://localhost:8080/"
        },
        "id": "IgucTLln-f75",
        "outputId": "1e39b3bb-270a-4b9a-fa50-34aaf574607d"
      },
      "source": [
        "import os\n",
        "# Find the latest version of spark 3.0 from http://www.apache.org/dist/spark/ and enter as the spark version\n",
        "# For example:\n",
        "# spark_version = 'spark-3.0.3'\n",
        "spark_version = 'spark-3.0.3'\n",
        "os.environ['SPARK_VERSION']=spark_version\n",
        "\n",
        "# Install Spark and Java\n",
        "!apt-get update\n",
        "!apt-get install openjdk-11-jdk-headless -qq > /dev/null\n",
        "!wget -q http://www.apache.org/dist/spark/$SPARK_VERSION/$SPARK_VERSION-bin-hadoop2.7.tgz\n",
        "!tar xf $SPARK_VERSION-bin-hadoop2.7.tgz\n",
        "!pip install -q findspark\n",
        "\n",
        "# Set Environment Variables\n",
        "import os\n",
        "os.environ[\"JAVA_HOME\"] = \"/usr/lib/jvm/java-11-openjdk-amd64\"\n",
        "os.environ[\"SPARK_HOME\"] = f\"/content/{spark_version}-bin-hadoop2.7\"\n",
        "\n",
        "# Start a SparkSession\n",
        "import findspark\n",
        "findspark.init()\n",
        "\n",
        "# Download the Postgres driver that will allow Spark to interact with Postgres.\n",
        "!wget https://jdbc.postgresql.org/download/postgresql-42.2.16.jar\n",
        "\n",
        "from pyspark.sql import SparkSession\n",
        "spark = SparkSession.builder.appName(\"M16-Amazon-Challenge\").config(\"spark.driver.extraClassPath\",\"/content/postgresql-42.2.16.jar\").getOrCreate()"
      ],
      "execution_count": 2,
      "outputs": [
        {
          "output_type": "stream",
          "name": "stdout",
          "text": [
            "\r0% [Working]\r            \rIgn:1 https://developer.download.nvidia.com/compute/cuda/repos/ubuntu1804/x86_64  InRelease\n",
            "\r0% [Connecting to archive.ubuntu.com (91.189.88.152)] [Connecting to security.u\r                                                                               \rIgn:2 https://developer.download.nvidia.com/compute/machine-learning/repos/ubuntu1804/x86_64  InRelease\n",
            "\r0% [Connecting to archive.ubuntu.com (91.189.88.152)] [Connecting to security.u\r                                                                               \rHit:3 https://developer.download.nvidia.com/compute/cuda/repos/ubuntu1804/x86_64  Release\n",
            "Hit:4 https://developer.download.nvidia.com/compute/machine-learning/repos/ubuntu1804/x86_64  Release\n",
            "Get:5 http://security.ubuntu.com/ubuntu bionic-security InRelease [88.7 kB]\n",
            "Hit:7 http://archive.ubuntu.com/ubuntu bionic InRelease\n",
            "Get:8 http://archive.ubuntu.com/ubuntu bionic-updates InRelease [88.7 kB]\n",
            "Get:9 http://ppa.launchpad.net/c2d4u.team/c2d4u4.0+/ubuntu bionic InRelease [15.9 kB]\n",
            "Get:11 https://cloud.r-project.org/bin/linux/ubuntu bionic-cran40/ InRelease [3,626 B]\n",
            "Hit:12 http://ppa.launchpad.net/cran/libgit2/ubuntu bionic InRelease\n",
            "Get:13 http://archive.ubuntu.com/ubuntu bionic-backports InRelease [74.6 kB]\n",
            "Get:14 http://security.ubuntu.com/ubuntu bionic-security/universe amd64 Packages [1,430 kB]\n",
            "Hit:15 http://ppa.launchpad.net/deadsnakes/ppa/ubuntu bionic InRelease\n",
            "Hit:16 http://ppa.launchpad.net/graphics-drivers/ppa/ubuntu bionic InRelease\n",
            "Get:17 http://archive.ubuntu.com/ubuntu bionic-updates/main amd64 Packages [2,800 kB]\n",
            "Get:18 http://ppa.launchpad.net/c2d4u.team/c2d4u4.0+/ubuntu bionic/main Sources [1,802 kB]\n",
            "Get:19 http://archive.ubuntu.com/ubuntu bionic-updates/universe amd64 Packages [2,208 kB]\n",
            "Get:20 http://ppa.launchpad.net/c2d4u.team/c2d4u4.0+/ubuntu bionic/main amd64 Packages [922 kB]\n",
            "Fetched 9,435 kB in 4s (2,472 kB/s)\n",
            "Reading package lists... Done\n",
            "--2021-10-04 01:54:58--  https://jdbc.postgresql.org/download/postgresql-42.2.16.jar\n",
            "Resolving jdbc.postgresql.org (jdbc.postgresql.org)... 72.32.157.228, 2001:4800:3e1:1::228\n",
            "Connecting to jdbc.postgresql.org (jdbc.postgresql.org)|72.32.157.228|:443... connected.\n",
            "HTTP request sent, awaiting response... 200 OK\n",
            "Length: 1002883 (979K) [application/java-archive]\n",
            "Saving to: ‘postgresql-42.2.16.jar’\n",
            "\n",
            "postgresql-42.2.16. 100%[===================>] 979.38K  6.04MB/s    in 0.2s    \n",
            "\n",
            "2021-10-04 01:54:59 (6.04 MB/s) - ‘postgresql-42.2.16.jar’ saved [1002883/1002883]\n",
            "\n"
          ]
        }
      ]
    },
    {
      "cell_type": "code",
      "metadata": {
        "colab": {
          "base_uri": "https://localhost:8080/"
        },
        "id": "mqKqZCbK_CT7",
        "outputId": "9f567610-f03d-4263-cd45-a88503000200"
      },
      "source": [
        "url = \"https://s3.amazonaws.com/amazon-reviews-pds/tsv/amazon_reviews_us_Books_v1_02.tsv.gz\"\n",
        "\n",
        "from pyspark import SparkFiles\n",
        "spark.sparkContext.addFile(url)\n",
        "spark_df = spark.read.csv(SparkFiles.get(\"amazon_reviews_us_Books_v1_02.tsv.gz\"), sep=\"\\t\", header=True)\n",
        "spark_df.show()"
      ],
      "execution_count": 4,
      "outputs": [
        {
          "output_type": "stream",
          "name": "stdout",
          "text": [
            "+-----------+-----------+--------------+----------+--------------+--------------------+----------------+-----------+-------------+-----------+----+-----------------+--------------------+--------------------+-----------+\n",
            "|marketplace|customer_id|     review_id|product_id|product_parent|       product_title|product_category|star_rating|helpful_votes|total_votes|vine|verified_purchase|     review_headline|         review_body|review_date|\n",
            "+-----------+-----------+--------------+----------+--------------+--------------------+----------------+-----------+-------------+-----------+----+-----------------+--------------------+--------------------+-----------+\n",
            "|         US|   12076615| RQ58W7SMO911M|0385730586|     122662979|Sisterhood of the...|           Books|          4|            2|          3|   N|                N|this book was a g...|this boook was a ...| 2005-10-14|\n",
            "|         US|   12703090|  RF6IUKMGL8SF|0811828964|      56191234|The Bad Girl's Gu...|           Books|          3|            5|          5|   N|                N|           Fun Fluff|If you are lookin...| 2005-10-14|\n",
            "|         US|   12257412|R1DOSHH6AI622S|1844161560|     253182049|Eisenhorn (A Warh...|           Books|          4|            1|         22|   N|                N| this isn't a review|never read it-a y...| 2005-10-14|\n",
            "|         US|   50732546| RATOTLA3OF70O|0373836635|     348672532|Colby Conspiracy ...|           Books|          5|            2|          2|   N|                N|fine author on he...|Though she is hon...| 2005-10-14|\n",
            "|         US|   51964897|R1TNWRKIVHVYOV|0262181533|     598678717|The Psychology of...|           Books|          4|            0|          2|   N|                N|Execellent cursor...|Review based on a...| 2005-10-14|\n",
            "|         US|   31048862|R2F53LI9KK9MOY|0316769487|     862964341|The Catcher in th...|           Books|          4|            2|          2|   N|                N|   Interesting, fun.|My only complaint...| 2005-10-14|\n",
            "|         US|   53000124|R1KJ6MB7MRSQFF|0805076069|     145341889|Bait and Switch: ...|           Books|          4|            9|         11|   N|                N|I viewed this the...|This book is chil...| 2005-10-14|\n",
            "|         US|   29732693|R2XIM9LT335WHE|1581603681|     640542054|Opening Combinati...|           Books|          4|            3|         10|   N|                N|No Frills - Just ...|When looking for ...| 2005-10-14|\n",
            "|         US|   48541186|R1VE0FQQ0QTQJN|0300108834|     915891133|A Little History ...|           Books|          5|           16|         20|   N|                Y|Simple, entertain...|Never been much f...| 2005-10-14|\n",
            "|         US|   15280864|R1VKEE2NWSWDRU|0446531081|     880645124|Hour Game (King &...|           Books|          4|            0|          0|   N|                N|        A good read!|If you enjoy a we...| 2005-10-14|\n",
            "|         US|   24209213|R2UP6XSVYJBJ2H|0976822105|     731931430|     Faith is a Verb|           Books|          5|            0|          0|   N|                N|Made me Question ...|I thoroughly enjo...| 2005-10-14|\n",
            "|         US|   52253037|R21SYDQ70ILUC0|1580085695|     586052746|Furry Logic: A Gu...|           Books|          5|            1|          1|   N|                Y|    The Perfect Gift|If you are stumpe...| 2005-10-14|\n",
            "|         US|   27925116| R7M06Z88PD7SX|0029148510|      72387289|Acts of War: Beha...|           Books|          4|           14|         14|   N|                N|Solid Book About ...|Whether intention...| 2005-10-14|\n",
            "|         US|   15005044| RRS38KZ4WB5O2|1592285570|     702385650|Temple to the Win...|           Books|          5|            1|          1|   N|                N|A riveting accoun...|Temple to the win...| 2005-10-14|\n",
            "|         US|   52534781|R2YDYRSLGNHPHR|0811848833|     102333549|The Star Wars Pos...|           Books|          4|           16|         19|   N|                Y|Comprehensive vis...|At last... a comp...| 2005-10-14|\n",
            "|         US|   26217071|R1BMPM18O6VZOR|0782144276|     971452783|Photoshop for Nat...|           Books|          4|           13|         14|   N|                N|          Great Book|I find \\\\\"Photosh...| 2005-10-14|\n",
            "|         US|   37684582|R1AABFZH0J0C0C|0375757996|     760991156|The Basic Works o...|           Books|          3|           17|         35|   N|                N|Problems with thi...|I love Aristotle ...| 2005-10-14|\n",
            "|         US|   45232107|R3SJYLG07EHNE9|013146308X|     332774292|The Pterosaurs: F...|           Books|          2|           16|         34|   N|                N|Warmed over lefto...|To his discredit,...| 2005-10-14|\n",
            "|         US|   15437121|R2TIO43ND87XVO|0375701907|     635714194|Straight Man: A N...|           Books|          5|            1|          1|   N|                N|       Funniest Book|Hands down, the f...| 2005-10-14|\n",
            "|         US|   52157117|R18TY4WD19OUAO|141378240X|     656010659|   Lipstick's Legacy|           Books|          5|            1|          1|   N|                N|          Great Work|I read this book ...| 2005-10-14|\n",
            "+-----------+-----------+--------------+----------+--------------+--------------------+----------------+-----------+-------------+-----------+----+-----------------+--------------------+--------------------+-----------+\n",
            "only showing top 20 rows\n",
            "\n"
          ]
        }
      ]
    },
    {
      "cell_type": "code",
      "metadata": {
        "colab": {
          "base_uri": "https://localhost:8080/"
        },
        "id": "wuckaRUW_NNG",
        "outputId": "4dad61b5-060a-4fd3-ad74-c0fbb21574a8"
      },
      "source": [
        "df_select = spark_df.select([\"star_rating\", \"helpful_votes\", \"total_votes\", \"vine\", \"verified_purchase\"])\n",
        "df_select.show()"
      ],
      "execution_count": 5,
      "outputs": [
        {
          "output_type": "stream",
          "name": "stdout",
          "text": [
            "+-----------+-------------+-----------+----+-----------------+\n",
            "|star_rating|helpful_votes|total_votes|vine|verified_purchase|\n",
            "+-----------+-------------+-----------+----+-----------------+\n",
            "|          4|            2|          3|   N|                N|\n",
            "|          3|            5|          5|   N|                N|\n",
            "|          4|            1|         22|   N|                N|\n",
            "|          5|            2|          2|   N|                N|\n",
            "|          4|            0|          2|   N|                N|\n",
            "|          4|            2|          2|   N|                N|\n",
            "|          4|            9|         11|   N|                N|\n",
            "|          4|            3|         10|   N|                N|\n",
            "|          5|           16|         20|   N|                Y|\n",
            "|          4|            0|          0|   N|                N|\n",
            "|          5|            0|          0|   N|                N|\n",
            "|          5|            1|          1|   N|                Y|\n",
            "|          4|           14|         14|   N|                N|\n",
            "|          5|            1|          1|   N|                N|\n",
            "|          4|           16|         19|   N|                Y|\n",
            "|          4|           13|         14|   N|                N|\n",
            "|          3|           17|         35|   N|                N|\n",
            "|          2|           16|         34|   N|                N|\n",
            "|          5|            1|          1|   N|                N|\n",
            "|          5|            1|          1|   N|                N|\n",
            "+-----------+-------------+-----------+----+-----------------+\n",
            "only showing top 20 rows\n",
            "\n"
          ]
        }
      ]
    },
    {
      "cell_type": "code",
      "metadata": {
        "colab": {
          "base_uri": "https://localhost:8080/"
        },
        "id": "tkT4nRey_RCG",
        "outputId": "91e76ac7-e57e-4ff1-821f-c800cf4ca943"
      },
      "source": [
        "\n",
        "# Drop NA and duplicates\n",
        "df_select = df_select.dropna(how='any')\n",
        "df_select.dropDuplicates()\n",
        "df_select.show()"
      ],
      "execution_count": 6,
      "outputs": [
        {
          "output_type": "stream",
          "name": "stdout",
          "text": [
            "+-----------+-------------+-----------+----+-----------------+\n",
            "|star_rating|helpful_votes|total_votes|vine|verified_purchase|\n",
            "+-----------+-------------+-----------+----+-----------------+\n",
            "|          4|            2|          3|   N|                N|\n",
            "|          3|            5|          5|   N|                N|\n",
            "|          4|            1|         22|   N|                N|\n",
            "|          5|            2|          2|   N|                N|\n",
            "|          4|            0|          2|   N|                N|\n",
            "|          4|            2|          2|   N|                N|\n",
            "|          4|            9|         11|   N|                N|\n",
            "|          4|            3|         10|   N|                N|\n",
            "|          5|           16|         20|   N|                Y|\n",
            "|          4|            0|          0|   N|                N|\n",
            "|          5|            0|          0|   N|                N|\n",
            "|          5|            1|          1|   N|                Y|\n",
            "|          4|           14|         14|   N|                N|\n",
            "|          5|            1|          1|   N|                N|\n",
            "|          4|           16|         19|   N|                Y|\n",
            "|          4|           13|         14|   N|                N|\n",
            "|          3|           17|         35|   N|                N|\n",
            "|          2|           16|         34|   N|                N|\n",
            "|          5|            1|          1|   N|                N|\n",
            "|          5|            1|          1|   N|                N|\n",
            "+-----------+-------------+-----------+----+-----------------+\n",
            "only showing top 20 rows\n",
            "\n"
          ]
        }
      ]
    },
    {
      "cell_type": "code",
      "metadata": {
        "colab": {
          "base_uri": "https://localhost:8080/"
        },
        "id": "vkV4aiiG_TaR",
        "outputId": "4354e115-30bd-4bcf-ab3f-d071648053a1"
      },
      "source": [
        "df_vine = df_select.filter(\"total_votes>=20\").filter(df_select[\"helpful_votes\"]/df_select[\"total_votes\"] >= 0.5)\n",
        "df_vine.show()"
      ],
      "execution_count": 7,
      "outputs": [
        {
          "output_type": "stream",
          "name": "stdout",
          "text": [
            "+-----------+-------------+-----------+----+-----------------+\n",
            "|star_rating|helpful_votes|total_votes|vine|verified_purchase|\n",
            "+-----------+-------------+-----------+----+-----------------+\n",
            "|          5|           16|         20|   N|                Y|\n",
            "|          5|           21|         31|   N|                N|\n",
            "|          5|           27|         28|   N|                N|\n",
            "|          4|           27|         27|   N|                N|\n",
            "|          1|          268|        307|   N|                N|\n",
            "|          4|           24|         27|   N|                Y|\n",
            "|          5|           23|         24|   N|                N|\n",
            "|          5|          145|        184|   N|                N|\n",
            "|          5|           46|         47|   N|                N|\n",
            "|          4|           28|         30|   N|                N|\n",
            "|          2|           15|         24|   N|                N|\n",
            "|          5|           26|         29|   N|                N|\n",
            "|          4|           16|         21|   N|                N|\n",
            "|          4|           59|         68|   N|                N|\n",
            "|          5|           18|         24|   N|                N|\n",
            "|          5|          101|        103|   N|                Y|\n",
            "|          5|           19|         24|   N|                N|\n",
            "|          4|         1150|       1228|   N|                N|\n",
            "|          5|           59|         60|   N|                N|\n",
            "|          1|           40|         43|   N|                N|\n",
            "+-----------+-------------+-----------+----+-----------------+\n",
            "only showing top 20 rows\n",
            "\n"
          ]
        }
      ]
    },
    {
      "cell_type": "code",
      "metadata": {
        "id": "6ox0-UTu_tAj"
      },
      "source": [
        "from pyspark.sql.functions import col, avg\n",
        "df_paid = df_vine.filter(\"vine='Y'\")\n",
        "df_unpaid = df_vine.filter(\"vine='N'\")"
      ],
      "execution_count": 8,
      "outputs": []
    },
    {
      "cell_type": "code",
      "metadata": {
        "colab": {
          "base_uri": "https://localhost:8080/"
        },
        "id": "OT0zYja6_vwU",
        "outputId": "ea4c9dc2-d5c9-4707-ec4b-f21f6a0eea94"
      },
      "source": [
        "\n",
        "df_paid.describe().show()"
      ],
      "execution_count": 9,
      "outputs": [
        {
          "output_type": "stream",
          "name": "stdout",
          "text": [
            "+-------+-----------+-------------+-----------+----+-----------------+\n",
            "|summary|star_rating|helpful_votes|total_votes|vine|verified_purchase|\n",
            "+-------+-----------+-------------+-----------+----+-----------------+\n",
            "|  count|          0|            0|          0|   0|                0|\n",
            "|   mean|       null|         null|       null|null|             null|\n",
            "| stddev|       null|         null|       null|null|             null|\n",
            "|    min|       null|         null|       null|null|             null|\n",
            "|    max|       null|         null|       null|null|             null|\n",
            "+-------+-----------+-------------+-----------+----+-----------------+\n",
            "\n"
          ]
        }
      ]
    },
    {
      "cell_type": "code",
      "metadata": {
        "colab": {
          "base_uri": "https://localhost:8080/"
        },
        "id": "FkxZOwRZ_vz9",
        "outputId": "99e26636-6c6d-4410-d194-45ce1c499518"
      },
      "source": [
        "df_unpaid.describe().show()"
      ],
      "execution_count": 10,
      "outputs": [
        {
          "output_type": "stream",
          "name": "stdout",
          "text": [
            "+-------+------------------+----------------+-----------------+------+-----------------+\n",
            "|summary|       star_rating|   helpful_votes|      total_votes|  vine|verified_purchase|\n",
            "+-------+------------------+----------------+-----------------+------+-----------------+\n",
            "|  count|            403807|          403807|           403807|403807|           403807|\n",
            "|   mean|  4.07847560839708|41.5214273155245|47.58547028654778|  null|             null|\n",
            "| stddev|1.3710414293829698|62.7084588623475|68.00152863386589|  null|             null|\n",
            "|    min|                 1|              10|              100|     N|                N|\n",
            "|    max|                 5|             998|              999|     N|                Y|\n",
            "+-------+------------------+----------------+-----------------+------+-----------------+\n",
            "\n"
          ]
        }
      ]
    },
    {
      "cell_type": "code",
      "metadata": {
        "colab": {
          "base_uri": "https://localhost:8080/"
        },
        "id": "QAFyV2sU_0j-",
        "outputId": "90fdc506-212b-41df-f485-92ab1b4f88c8"
      },
      "source": [
        "five_star = df_paid[df_paid['star_rating'] == 5].count()\n",
        "five_star"
      ],
      "execution_count": 11,
      "outputs": [
        {
          "output_type": "execute_result",
          "data": {
            "text/plain": [
              "0"
            ]
          },
          "metadata": {},
          "execution_count": 11
        }
      ]
    },
    {
      "cell_type": "code",
      "metadata": {
        "colab": {
          "base_uri": "https://localhost:8080/"
        },
        "id": "IQ1JQ9QJ_2g_",
        "outputId": "4bfb36d4-390e-4fe9-e076-eeb4177af0b6"
      },
      "source": [
        "\n",
        "all_paid = df_paid.count()\n",
        "all_paid"
      ],
      "execution_count": 12,
      "outputs": [
        {
          "output_type": "execute_result",
          "data": {
            "text/plain": [
              "0"
            ]
          },
          "metadata": {},
          "execution_count": 12
        }
      ]
    },
    {
      "cell_type": "code",
      "metadata": {
        "colab": {
          "base_uri": "https://localhost:8080/",
          "height": 183
        },
        "id": "Nu4pUWmZ_4HH",
        "outputId": "93dc0b8b-545e-427e-8e21-70d560aef4ec"
      },
      "source": [
        "# Pecentage of five-star reviews in Vine\n",
        "print(five_star/all_paid)"
      ],
      "execution_count": 13,
      "outputs": [
        {
          "output_type": "error",
          "ename": "ZeroDivisionError",
          "evalue": "ignored",
          "traceback": [
            "\u001b[0;31m---------------------------------------------------------------------------\u001b[0m",
            "\u001b[0;31mZeroDivisionError\u001b[0m                         Traceback (most recent call last)",
            "\u001b[0;32m<ipython-input-13-8e364b7c4eaf>\u001b[0m in \u001b[0;36m<module>\u001b[0;34m()\u001b[0m\n\u001b[1;32m      1\u001b[0m \u001b[0;31m# Pecentage of five-star reviews in Vine\u001b[0m\u001b[0;34m\u001b[0m\u001b[0;34m\u001b[0m\u001b[0;34m\u001b[0m\u001b[0m\n\u001b[0;32m----> 2\u001b[0;31m \u001b[0mprint\u001b[0m\u001b[0;34m(\u001b[0m\u001b[0mfive_star\u001b[0m\u001b[0;34m/\u001b[0m\u001b[0mall_paid\u001b[0m\u001b[0;34m)\u001b[0m\u001b[0;34m\u001b[0m\u001b[0;34m\u001b[0m\u001b[0m\n\u001b[0m",
            "\u001b[0;31mZeroDivisionError\u001b[0m: division by zero"
          ]
        }
      ]
    },
    {
      "cell_type": "code",
      "metadata": {
        "colab": {
          "base_uri": "https://localhost:8080/"
        },
        "id": "AUAe63Gy_6FX",
        "outputId": "8c9e7d15-7c01-40ce-f488-1eb1df460aca"
      },
      "source": [
        "unpaid_five_star = df_unpaid[df_paid['star_rating'] == 5].count()\n",
        "unpaid_five_star"
      ],
      "execution_count": 14,
      "outputs": [
        {
          "output_type": "execute_result",
          "data": {
            "text/plain": [
              "242889"
            ]
          },
          "metadata": {},
          "execution_count": 14
        }
      ]
    },
    {
      "cell_type": "code",
      "metadata": {
        "colab": {
          "base_uri": "https://localhost:8080/"
        },
        "id": "GbuwJSno_6OH",
        "outputId": "3e892847-9528-4933-a7f2-c1532c77de52"
      },
      "source": [
        "all_unpaid = df_unpaid.count()\n",
        "all_unpaid"
      ],
      "execution_count": 15,
      "outputs": [
        {
          "output_type": "execute_result",
          "data": {
            "text/plain": [
              "403807"
            ]
          },
          "metadata": {},
          "execution_count": 15
        }
      ]
    },
    {
      "cell_type": "code",
      "metadata": {
        "colab": {
          "base_uri": "https://localhost:8080/"
        },
        "id": "y3trDwvE_6Vf",
        "outputId": "e2b6188f-5241-4d2a-8d24-97099b656a8b"
      },
      "source": [
        "# Pecentage of five-star reviews in non-Vine\n",
        "print(unpaid_five_star/all_unpaid)"
      ],
      "execution_count": 16,
      "outputs": [
        {
          "output_type": "stream",
          "name": "stdout",
          "text": [
            "0.6014977452099641\n"
          ]
        }
      ]
    },
    {
      "cell_type": "markdown",
      "metadata": {
        "id": "9OpcojKPOv_w"
      },
      "source": [
        "**BONUS - Verified vs Unverified Reviews**"
      ]
    },
    {
      "cell_type": "code",
      "metadata": {
        "id": "LOtV7wGSOveh"
      },
      "source": [
        "from pyspark.sql.functions import col, avg\n",
        "df_verified = df_vine.filter(\"verified_purchase='Y'\")\n",
        "df_unverified = df_vine.filter(\"verified_purchase='N'\")"
      ],
      "execution_count": 17,
      "outputs": []
    },
    {
      "cell_type": "code",
      "metadata": {
        "colab": {
          "base_uri": "https://localhost:8080/"
        },
        "id": "K9eSPT_OPSDN",
        "outputId": "a0c59589-0075-46bb-8af9-d10d6600f622"
      },
      "source": [
        "df_verified.describe().show()"
      ],
      "execution_count": 18,
      "outputs": [
        {
          "output_type": "stream",
          "name": "stdout",
          "text": [
            "+-------+------------------+-----------------+-----------------+-----+-----------------+\n",
            "|summary|       star_rating|    helpful_votes|      total_votes| vine|verified_purchase|\n",
            "+-------+------------------+-----------------+-----------------+-----+-----------------+\n",
            "|  count|             46200|            46200|            46200|46200|            46200|\n",
            "|   mean|4.1301298701298705|46.13898268398268|51.77588744588745| null|             null|\n",
            "| stddev|1.2793506195589872|69.23685683870448|75.27096840896195| null|             null|\n",
            "|    min|                 1|               10|              100|    N|                Y|\n",
            "|    max|                 5|               99|               99|    N|                Y|\n",
            "+-------+------------------+-----------------+-----------------+-----+-----------------+\n",
            "\n"
          ]
        }
      ]
    },
    {
      "cell_type": "code",
      "metadata": {
        "colab": {
          "base_uri": "https://localhost:8080/"
        },
        "id": "08w8z4idPU_d",
        "outputId": "82fade29-fd79-43e6-8c54-41d4f0e33628"
      },
      "source": [
        "df_unverified.describe().show()"
      ],
      "execution_count": 19,
      "outputs": [
        {
          "output_type": "stream",
          "name": "stdout",
          "text": [
            "+-------+------------------+------------------+-----------------+------+-----------------+\n",
            "|summary|       star_rating|     helpful_votes|      total_votes|  vine|verified_purchase|\n",
            "+-------+------------------+------------------+-----------------+------+-----------------+\n",
            "|  count|            357607|            357607|           357607|357607|           357607|\n",
            "|   mean|  4.07180228574944|40.924875631629135|47.04410148570917|  null|             null|\n",
            "| stddev|1.3823045433007342|  61.7897113695581|66.98586975848994|  null|             null|\n",
            "|    min|                 1|                10|              100|     N|                N|\n",
            "|    max|                 5|               998|              999|     N|                N|\n",
            "+-------+------------------+------------------+-----------------+------+-----------------+\n",
            "\n"
          ]
        }
      ]
    },
    {
      "cell_type": "code",
      "metadata": {
        "colab": {
          "base_uri": "https://localhost:8080/"
        },
        "id": "awqFdG23PY2f",
        "outputId": "980d85be-4cfa-4b39-bd38-95583c4302ac"
      },
      "source": [
        "verified_five_star = df_verified[df_verified['star_rating'] == 5].count()\n",
        "verified_five_star"
      ],
      "execution_count": 20,
      "outputs": [
        {
          "output_type": "execute_result",
          "data": {
            "text/plain": [
              "27495"
            ]
          },
          "metadata": {},
          "execution_count": 20
        }
      ]
    },
    {
      "cell_type": "code",
      "metadata": {
        "colab": {
          "base_uri": "https://localhost:8080/"
        },
        "id": "VGvnayXNPiWc",
        "outputId": "76e1e414-97bf-4aa2-e989-ab26ebb400f0"
      },
      "source": [
        "all_verified = df_verified.count()\n",
        "all_verified"
      ],
      "execution_count": 21,
      "outputs": [
        {
          "output_type": "execute_result",
          "data": {
            "text/plain": [
              "46200"
            ]
          },
          "metadata": {},
          "execution_count": 21
        }
      ]
    },
    {
      "cell_type": "code",
      "metadata": {
        "colab": {
          "base_uri": "https://localhost:8080/"
        },
        "id": "BSqTyRRyPZAP",
        "outputId": "fd954c5a-64db-44d6-e5e5-48a75d1734c8"
      },
      "source": [
        "# Percentage of five-star verified reviews in Vine\n",
        "print(verified_five_star/all_verified)"
      ],
      "execution_count": 22,
      "outputs": [
        {
          "output_type": "stream",
          "name": "stdout",
          "text": [
            "0.5951298701298702\n"
          ]
        }
      ]
    },
    {
      "cell_type": "code",
      "metadata": {
        "colab": {
          "base_uri": "https://localhost:8080/"
        },
        "id": "wb693He4P5uM",
        "outputId": "2863d8f2-c206-4035-f3b7-a0c918d67662"
      },
      "source": [
        "unverified_five_star = df_unverified[df_unverified['star_rating'] == 5].count()\n",
        "unverified_five_star"
      ],
      "execution_count": 23,
      "outputs": [
        {
          "output_type": "execute_result",
          "data": {
            "text/plain": [
              "215394"
            ]
          },
          "metadata": {},
          "execution_count": 23
        }
      ]
    },
    {
      "cell_type": "code",
      "metadata": {
        "colab": {
          "base_uri": "https://localhost:8080/"
        },
        "id": "6HMDaUVWQA0Q",
        "outputId": "177b66f2-e4f3-4aa6-c304-062e03a25bdf"
      },
      "source": [
        "all_unverified = df_unverified.count()\n",
        "all_unverified"
      ],
      "execution_count": 24,
      "outputs": [
        {
          "output_type": "execute_result",
          "data": {
            "text/plain": [
              "357607"
            ]
          },
          "metadata": {},
          "execution_count": 24
        }
      ]
    },
    {
      "cell_type": "code",
      "metadata": {
        "colab": {
          "base_uri": "https://localhost:8080/"
        },
        "id": "atsxKUMLQG2N",
        "outputId": "5e336ea4-2ca6-42cd-dc04-1cbf7b39fabd"
      },
      "source": [
        "# Percentage of five-star verified reviews in Vine\n",
        "print(unverified_five_star/all_unverified)"
      ],
      "execution_count": 25,
      "outputs": [
        {
          "output_type": "stream",
          "name": "stdout",
          "text": [
            "0.6023204243764804\n"
          ]
        }
      ]
    }
  ]
}